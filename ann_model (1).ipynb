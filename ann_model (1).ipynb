{
  "cells": [
    {
      "cell_type": "code",
      "execution_count": null,
      "id": "b24c9abd",
      "metadata": {
        "id": "b24c9abd"
      },
      "outputs": [],
      "source": [
        "import pandas as pd\n",
        "import numpy as np"
      ]
    },
    {
      "cell_type": "code",
      "execution_count": null,
      "id": "3a988850",
      "metadata": {
        "id": "3a988850",
        "outputId": "f5bec6e3-ff7c-45cf-e828-580121fae5c1"
      },
      "outputs": [
        {
          "data": {
            "text/html": [
              "<div>\n",
              "<style scoped>\n",
              "    .dataframe tbody tr th:only-of-type {\n",
              "        vertical-align: middle;\n",
              "    }\n",
              "\n",
              "    .dataframe tbody tr th {\n",
              "        vertical-align: top;\n",
              "    }\n",
              "\n",
              "    .dataframe thead th {\n",
              "        text-align: right;\n",
              "    }\n",
              "</style>\n",
              "<table border=\"1\" class=\"dataframe\">\n",
              "  <thead>\n",
              "    <tr style=\"text-align: right;\">\n",
              "      <th></th>\n",
              "      <th>customerID</th>\n",
              "      <th>gender</th>\n",
              "      <th>SeniorCitizen</th>\n",
              "      <th>Partner</th>\n",
              "      <th>Dependents</th>\n",
              "      <th>tenure</th>\n",
              "      <th>PhoneService</th>\n",
              "      <th>MultipleLines</th>\n",
              "      <th>InternetService</th>\n",
              "      <th>OnlineSecurity</th>\n",
              "      <th>...</th>\n",
              "      <th>DeviceProtection</th>\n",
              "      <th>TechSupport</th>\n",
              "      <th>StreamingTV</th>\n",
              "      <th>StreamingMovies</th>\n",
              "      <th>Contract</th>\n",
              "      <th>PaperlessBilling</th>\n",
              "      <th>PaymentMethod</th>\n",
              "      <th>MonthlyCharges</th>\n",
              "      <th>TotalCharges</th>\n",
              "      <th>Churn</th>\n",
              "    </tr>\n",
              "  </thead>\n",
              "  <tbody>\n",
              "    <tr>\n",
              "      <th>0</th>\n",
              "      <td>7590-VHVEG</td>\n",
              "      <td>Female</td>\n",
              "      <td>0</td>\n",
              "      <td>Yes</td>\n",
              "      <td>No</td>\n",
              "      <td>1</td>\n",
              "      <td>No</td>\n",
              "      <td>No phone service</td>\n",
              "      <td>DSL</td>\n",
              "      <td>No</td>\n",
              "      <td>...</td>\n",
              "      <td>No</td>\n",
              "      <td>No</td>\n",
              "      <td>No</td>\n",
              "      <td>No</td>\n",
              "      <td>Month-to-month</td>\n",
              "      <td>Yes</td>\n",
              "      <td>Electronic check</td>\n",
              "      <td>29.85</td>\n",
              "      <td>29.85</td>\n",
              "      <td>No</td>\n",
              "    </tr>\n",
              "    <tr>\n",
              "      <th>1</th>\n",
              "      <td>5575-GNVDE</td>\n",
              "      <td>Male</td>\n",
              "      <td>0</td>\n",
              "      <td>No</td>\n",
              "      <td>No</td>\n",
              "      <td>34</td>\n",
              "      <td>Yes</td>\n",
              "      <td>No</td>\n",
              "      <td>DSL</td>\n",
              "      <td>Yes</td>\n",
              "      <td>...</td>\n",
              "      <td>Yes</td>\n",
              "      <td>No</td>\n",
              "      <td>No</td>\n",
              "      <td>No</td>\n",
              "      <td>One year</td>\n",
              "      <td>No</td>\n",
              "      <td>Mailed check</td>\n",
              "      <td>56.95</td>\n",
              "      <td>1889.5</td>\n",
              "      <td>No</td>\n",
              "    </tr>\n",
              "    <tr>\n",
              "      <th>2</th>\n",
              "      <td>3668-QPYBK</td>\n",
              "      <td>Male</td>\n",
              "      <td>0</td>\n",
              "      <td>No</td>\n",
              "      <td>No</td>\n",
              "      <td>2</td>\n",
              "      <td>Yes</td>\n",
              "      <td>No</td>\n",
              "      <td>DSL</td>\n",
              "      <td>Yes</td>\n",
              "      <td>...</td>\n",
              "      <td>No</td>\n",
              "      <td>No</td>\n",
              "      <td>No</td>\n",
              "      <td>No</td>\n",
              "      <td>Month-to-month</td>\n",
              "      <td>Yes</td>\n",
              "      <td>Mailed check</td>\n",
              "      <td>53.85</td>\n",
              "      <td>108.15</td>\n",
              "      <td>Yes</td>\n",
              "    </tr>\n",
              "    <tr>\n",
              "      <th>3</th>\n",
              "      <td>7795-CFOCW</td>\n",
              "      <td>Male</td>\n",
              "      <td>0</td>\n",
              "      <td>No</td>\n",
              "      <td>No</td>\n",
              "      <td>45</td>\n",
              "      <td>No</td>\n",
              "      <td>No phone service</td>\n",
              "      <td>DSL</td>\n",
              "      <td>Yes</td>\n",
              "      <td>...</td>\n",
              "      <td>Yes</td>\n",
              "      <td>Yes</td>\n",
              "      <td>No</td>\n",
              "      <td>No</td>\n",
              "      <td>One year</td>\n",
              "      <td>No</td>\n",
              "      <td>Bank transfer (automatic)</td>\n",
              "      <td>42.30</td>\n",
              "      <td>1840.75</td>\n",
              "      <td>No</td>\n",
              "    </tr>\n",
              "    <tr>\n",
              "      <th>4</th>\n",
              "      <td>9237-HQITU</td>\n",
              "      <td>Female</td>\n",
              "      <td>0</td>\n",
              "      <td>No</td>\n",
              "      <td>No</td>\n",
              "      <td>2</td>\n",
              "      <td>Yes</td>\n",
              "      <td>No</td>\n",
              "      <td>Fiber optic</td>\n",
              "      <td>No</td>\n",
              "      <td>...</td>\n",
              "      <td>No</td>\n",
              "      <td>No</td>\n",
              "      <td>No</td>\n",
              "      <td>No</td>\n",
              "      <td>Month-to-month</td>\n",
              "      <td>Yes</td>\n",
              "      <td>Electronic check</td>\n",
              "      <td>70.70</td>\n",
              "      <td>151.65</td>\n",
              "      <td>Yes</td>\n",
              "    </tr>\n",
              "  </tbody>\n",
              "</table>\n",
              "<p>5 rows × 21 columns</p>\n",
              "</div>"
            ],
            "text/plain": [
              "   customerID  gender  SeniorCitizen Partner Dependents  tenure PhoneService  \\\n",
              "0  7590-VHVEG  Female              0     Yes         No       1           No   \n",
              "1  5575-GNVDE    Male              0      No         No      34          Yes   \n",
              "2  3668-QPYBK    Male              0      No         No       2          Yes   \n",
              "3  7795-CFOCW    Male              0      No         No      45           No   \n",
              "4  9237-HQITU  Female              0      No         No       2          Yes   \n",
              "\n",
              "      MultipleLines InternetService OnlineSecurity  ... DeviceProtection  \\\n",
              "0  No phone service             DSL             No  ...               No   \n",
              "1                No             DSL            Yes  ...              Yes   \n",
              "2                No             DSL            Yes  ...               No   \n",
              "3  No phone service             DSL            Yes  ...              Yes   \n",
              "4                No     Fiber optic             No  ...               No   \n",
              "\n",
              "  TechSupport StreamingTV StreamingMovies        Contract PaperlessBilling  \\\n",
              "0          No          No              No  Month-to-month              Yes   \n",
              "1          No          No              No        One year               No   \n",
              "2          No          No              No  Month-to-month              Yes   \n",
              "3         Yes          No              No        One year               No   \n",
              "4          No          No              No  Month-to-month              Yes   \n",
              "\n",
              "               PaymentMethod MonthlyCharges  TotalCharges Churn  \n",
              "0           Electronic check          29.85         29.85    No  \n",
              "1               Mailed check          56.95        1889.5    No  \n",
              "2               Mailed check          53.85        108.15   Yes  \n",
              "3  Bank transfer (automatic)          42.30       1840.75    No  \n",
              "4           Electronic check          70.70        151.65   Yes  \n",
              "\n",
              "[5 rows x 21 columns]"
            ]
          },
          "execution_count": 2,
          "metadata": {},
          "output_type": "execute_result"
        }
      ],
      "source": [
        "df = pd.read_csv(\"WA_Fn-UseC_-Telco-Customer-Churn (1).csv\")\n",
        "df.head()"
      ]
    },
    {
      "cell_type": "code",
      "execution_count": null,
      "id": "a579c15a-8fbf-4415-b32b-537aec6983bd",
      "metadata": {
        "id": "a579c15a-8fbf-4415-b32b-537aec6983bd",
        "outputId": "028bb628-3e8d-473b-c663-de320033df9d"
      },
      "outputs": [
        {
          "data": {
            "text/plain": [
              "Churn\n",
              "0    5174\n",
              "1    1869\n",
              "Name: count, dtype: int64"
            ]
          },
          "execution_count": 12,
          "metadata": {},
          "output_type": "execute_result"
        }
      ],
      "source": [
        "df.Churn.value_counts()"
      ]
    },
    {
      "cell_type": "code",
      "execution_count": null,
      "id": "be68d95f",
      "metadata": {
        "id": "be68d95f"
      },
      "outputs": [],
      "source": [
        "df.drop(\"customerID\",axis=1, inplace=True)"
      ]
    },
    {
      "cell_type": "code",
      "execution_count": null,
      "id": "71fc2586",
      "metadata": {
        "id": "71fc2586"
      },
      "outputs": [],
      "source": [
        "from sklearn.preprocessing import LabelEncoder\n",
        "ecoder = LabelEncoder()\n",
        "\n",
        "\n",
        "for col in df.select_dtypes(\"O\").columns:\n",
        "    df[col] = ecoder.fit_transform(df[col])"
      ]
    },
    {
      "cell_type": "code",
      "execution_count": null,
      "id": "e2434f1e",
      "metadata": {
        "id": "e2434f1e"
      },
      "outputs": [],
      "source": [
        "X = df.drop(\"Churn\", axis=1)\n",
        "y = df.Churn"
      ]
    },
    {
      "cell_type": "code",
      "execution_count": null,
      "id": "fe2f9951-ec6f-4eeb-8e9d-1e85132dcd77",
      "metadata": {
        "id": "fe2f9951-ec6f-4eeb-8e9d-1e85132dcd77"
      },
      "outputs": [],
      "source": [
        "from imblearn.over_sampling import SMOTE\n",
        "sampler = SMOTE()\n",
        "X, y = sampler.fit_resample(X, y)"
      ]
    },
    {
      "cell_type": "code",
      "execution_count": null,
      "id": "208ccbcd-b3a1-4eb2-b241-bfe910f9dce2",
      "metadata": {
        "id": "208ccbcd-b3a1-4eb2-b241-bfe910f9dce2",
        "outputId": "4c63d5b4-3710-4c1c-b093-647b8d354949"
      },
      "outputs": [
        {
          "data": {
            "text/plain": [
              "Churn\n",
              "0    5174\n",
              "1    5174\n",
              "Name: count, dtype: int64"
            ]
          },
          "execution_count": 16,
          "metadata": {},
          "output_type": "execute_result"
        }
      ],
      "source": [
        "y.value_counts()"
      ]
    },
    {
      "cell_type": "code",
      "execution_count": null,
      "id": "a5869903",
      "metadata": {
        "id": "a5869903"
      },
      "outputs": [],
      "source": [
        "from sklearn.model_selection import train_test_split\n",
        "X_train, X_test, y_train, y_test = train_test_split(X, y, test_size=0.2)"
      ]
    },
    {
      "cell_type": "code",
      "execution_count": null,
      "id": "f8aa7aaa-f124-447b-afef-6151bf1f5e9a",
      "metadata": {
        "id": "f8aa7aaa-f124-447b-afef-6151bf1f5e9a",
        "outputId": "523b8e0f-3059-4b00-aca0-7f7ea0dcd156"
      },
      "outputs": [
        {
          "data": {
            "text/plain": [
              "(8278, 19)"
            ]
          },
          "execution_count": 18,
          "metadata": {},
          "output_type": "execute_result"
        }
      ],
      "source": [
        "X_train.shape"
      ]
    },
    {
      "cell_type": "markdown",
      "id": "6ef9de94",
      "metadata": {
        "id": "6ef9de94"
      },
      "source": [
        "# Modeling"
      ]
    },
    {
      "cell_type": "code",
      "execution_count": null,
      "id": "15215dbf",
      "metadata": {
        "id": "15215dbf"
      },
      "outputs": [],
      "source": [
        "import tensorflow as tf"
      ]
    },
    {
      "cell_type": "code",
      "execution_count": null,
      "id": "e1c46f4f-67f0-4c5a-aac2-2355c5551b0e",
      "metadata": {
        "id": "e1c46f4f-67f0-4c5a-aac2-2355c5551b0e",
        "outputId": "078b2674-963b-4167-c28b-3d2f0e2d51c8"
      },
      "outputs": [
        {
          "name": "stderr",
          "output_type": "stream",
          "text": [
            "C:\\Users\\VU360 Solutions\\anaconda3\\Lib\\site-packages\\keras\\src\\layers\\core\\dense.py:88: UserWarning: Do not pass an `input_shape`/`input_dim` argument to a layer. When using Sequential models, prefer using an `Input(shape)` object as the first layer in the model instead.\n",
            "  super().__init__(activity_regularizer=activity_regularizer, **kwargs)\n"
          ]
        }
      ],
      "source": [
        "model = tf.keras.models.Sequential(name=\"ANN_Model\")\n",
        "model.add(tf.keras.layers.Dense(2, activation=\"relu\", input_dim=19, name=\"ANN_1\"))\n",
        "model.add(tf.keras.layers.Dense(1, activation=\"sigmoid\", name=\"ANN_3\"))\n",
        "\n",
        "model.compile(loss=\"binary_crossentropy\", optimizer=\"adam\", metrics=[\"accuracy\", \"precision\"])"
      ]
    },
    {
      "cell_type": "code",
      "execution_count": null,
      "id": "03e5d2df-9f78-4f0a-a45a-9751c19e0519",
      "metadata": {
        "id": "03e5d2df-9f78-4f0a-a45a-9751c19e0519",
        "outputId": "1b3437ec-43ff-41dc-85e3-c3ee11c99a5c"
      },
      "outputs": [
        {
          "data": {
            "text/html": [
              "<pre style=\"white-space:pre;overflow-x:auto;line-height:normal;font-family:Menlo,'DejaVu Sans Mono',consolas,'Courier New',monospace\"><span style=\"font-weight: bold\">Model: \"ANN_Model\"</span>\n",
              "</pre>\n"
            ],
            "text/plain": [
              "\u001b[1mModel: \"ANN_Model\"\u001b[0m\n"
            ]
          },
          "metadata": {},
          "output_type": "display_data"
        },
        {
          "data": {
            "text/html": [
              "<pre style=\"white-space:pre;overflow-x:auto;line-height:normal;font-family:Menlo,'DejaVu Sans Mono',consolas,'Courier New',monospace\">┏━━━━━━━━━━━━━━━━━━━━━━━━━━━━━━━━━━━━━━┳━━━━━━━━━━━━━━━━━━━━━━━━━━━━━┳━━━━━━━━━━━━━━━━━┓\n",
              "┃<span style=\"font-weight: bold\"> Layer (type)                         </span>┃<span style=\"font-weight: bold\"> Output Shape                </span>┃<span style=\"font-weight: bold\">         Param # </span>┃\n",
              "┡━━━━━━━━━━━━━━━━━━━━━━━━━━━━━━━━━━━━━━╇━━━━━━━━━━━━━━━━━━━━━━━━━━━━━╇━━━━━━━━━━━━━━━━━┩\n",
              "│ ANN_1 (<span style=\"color: #0087ff; text-decoration-color: #0087ff\">Dense</span>)                        │ (<span style=\"color: #00d7ff; text-decoration-color: #00d7ff\">None</span>, <span style=\"color: #00af00; text-decoration-color: #00af00\">2</span>)                   │              <span style=\"color: #00af00; text-decoration-color: #00af00\">40</span> │\n",
              "├──────────────────────────────────────┼─────────────────────────────┼─────────────────┤\n",
              "│ ANN_3 (<span style=\"color: #0087ff; text-decoration-color: #0087ff\">Dense</span>)                        │ (<span style=\"color: #00d7ff; text-decoration-color: #00d7ff\">None</span>, <span style=\"color: #00af00; text-decoration-color: #00af00\">1</span>)                   │               <span style=\"color: #00af00; text-decoration-color: #00af00\">3</span> │\n",
              "└──────────────────────────────────────┴─────────────────────────────┴─────────────────┘\n",
              "</pre>\n"
            ],
            "text/plain": [
              "┏━━━━━━━━━━━━━━━━━━━━━━━━━━━━━━━━━━━━━━┳━━━━━━━━━━━━━━━━━━━━━━━━━━━━━┳━━━━━━━━━━━━━━━━━┓\n",
              "┃\u001b[1m \u001b[0m\u001b[1mLayer (type)                        \u001b[0m\u001b[1m \u001b[0m┃\u001b[1m \u001b[0m\u001b[1mOutput Shape               \u001b[0m\u001b[1m \u001b[0m┃\u001b[1m \u001b[0m\u001b[1m        Param #\u001b[0m\u001b[1m \u001b[0m┃\n",
              "┡━━━━━━━━━━━━━━━━━━━━━━━━━━━━━━━━━━━━━━╇━━━━━━━━━━━━━━━━━━━━━━━━━━━━━╇━━━━━━━━━━━━━━━━━┩\n",
              "│ ANN_1 (\u001b[38;5;33mDense\u001b[0m)                        │ (\u001b[38;5;45mNone\u001b[0m, \u001b[38;5;34m2\u001b[0m)                   │              \u001b[38;5;34m40\u001b[0m │\n",
              "├──────────────────────────────────────┼─────────────────────────────┼─────────────────┤\n",
              "│ ANN_3 (\u001b[38;5;33mDense\u001b[0m)                        │ (\u001b[38;5;45mNone\u001b[0m, \u001b[38;5;34m1\u001b[0m)                   │               \u001b[38;5;34m3\u001b[0m │\n",
              "└──────────────────────────────────────┴─────────────────────────────┴─────────────────┘\n"
            ]
          },
          "metadata": {},
          "output_type": "display_data"
        },
        {
          "data": {
            "text/html": [
              "<pre style=\"white-space:pre;overflow-x:auto;line-height:normal;font-family:Menlo,'DejaVu Sans Mono',consolas,'Courier New',monospace\"><span style=\"font-weight: bold\"> Total params: </span><span style=\"color: #00af00; text-decoration-color: #00af00\">43</span> (172.00 B)\n",
              "</pre>\n"
            ],
            "text/plain": [
              "\u001b[1m Total params: \u001b[0m\u001b[38;5;34m43\u001b[0m (172.00 B)\n"
            ]
          },
          "metadata": {},
          "output_type": "display_data"
        },
        {
          "data": {
            "text/html": [
              "<pre style=\"white-space:pre;overflow-x:auto;line-height:normal;font-family:Menlo,'DejaVu Sans Mono',consolas,'Courier New',monospace\"><span style=\"font-weight: bold\"> Trainable params: </span><span style=\"color: #00af00; text-decoration-color: #00af00\">43</span> (172.00 B)\n",
              "</pre>\n"
            ],
            "text/plain": [
              "\u001b[1m Trainable params: \u001b[0m\u001b[38;5;34m43\u001b[0m (172.00 B)\n"
            ]
          },
          "metadata": {},
          "output_type": "display_data"
        },
        {
          "data": {
            "text/html": [
              "<pre style=\"white-space:pre;overflow-x:auto;line-height:normal;font-family:Menlo,'DejaVu Sans Mono',consolas,'Courier New',monospace\"><span style=\"font-weight: bold\"> Non-trainable params: </span><span style=\"color: #00af00; text-decoration-color: #00af00\">0</span> (0.00 B)\n",
              "</pre>\n"
            ],
            "text/plain": [
              "\u001b[1m Non-trainable params: \u001b[0m\u001b[38;5;34m0\u001b[0m (0.00 B)\n"
            ]
          },
          "metadata": {},
          "output_type": "display_data"
        }
      ],
      "source": [
        "model.summary()"
      ]
    },
    {
      "cell_type": "code",
      "execution_count": null,
      "id": "a27ad8ed-0ea3-469f-90c5-07a464c6eaa0",
      "metadata": {
        "scrolled": true,
        "id": "a27ad8ed-0ea3-469f-90c5-07a464c6eaa0",
        "outputId": "cada19db-ad96-4e50-bf88-d374c1d5918c"
      },
      "outputs": [
        {
          "name": "stdout",
          "output_type": "stream",
          "text": [
            "Epoch 1/5\n",
            "\u001b[1m233/233\u001b[0m \u001b[32m━━━━━━━━━━━━━━━━━━━━\u001b[0m\u001b[37m\u001b[0m \u001b[1m3s\u001b[0m 4ms/step - accuracy: 0.4930 - loss: 347.2766 - precision: 0.3620 - val_accuracy: 0.5229 - val_loss: 150.5151 - val_precision: 0.4444\n",
            "Epoch 2/5\n",
            "\u001b[1m233/233\u001b[0m \u001b[32m━━━━━━━━━━━━━━━━━━━━\u001b[0m\u001b[37m\u001b[0m \u001b[1m0s\u001b[0m 2ms/step - accuracy: 0.4958 - loss: 115.9108 - precision: 0.6286 - val_accuracy: 0.5362 - val_loss: 36.5413 - val_precision: 0.6000\n",
            "Epoch 3/5\n",
            "\u001b[1m233/233\u001b[0m \u001b[32m━━━━━━━━━━━━━━━━━━━━\u001b[0m\u001b[37m\u001b[0m \u001b[1m1s\u001b[0m 2ms/step - accuracy: 0.5067 - loss: 24.5868 - precision: 0.6302 - val_accuracy: 0.5036 - val_loss: 0.7383 - val_precision: 0.4889\n",
            "Epoch 4/5\n",
            "\u001b[1m233/233\u001b[0m \u001b[32m━━━━━━━━━━━━━━━━━━━━\u001b[0m\u001b[37m\u001b[0m \u001b[1m1s\u001b[0m 3ms/step - accuracy: 0.5370 - loss: 0.7109 - precision: 0.5189 - val_accuracy: 0.5036 - val_loss: 0.7300 - val_precision: 0.4889\n",
            "Epoch 5/5\n",
            "\u001b[1m233/233\u001b[0m \u001b[32m━━━━━━━━━━━━━━━━━━━━\u001b[0m\u001b[37m\u001b[0m \u001b[1m1s\u001b[0m 3ms/step - accuracy: 0.5437 - loss: 0.7009 - precision: 0.5272 - val_accuracy: 0.5036 - val_loss: 0.7208 - val_precision: 0.4889\n"
          ]
        }
      ],
      "source": [
        "history = model.fit(X_train, y_train, epochs=5, validation_split=0.1)"
      ]
    },
    {
      "cell_type": "code",
      "execution_count": null,
      "id": "decd71a4-37e5-44bb-94ac-9383ad8fbaff",
      "metadata": {
        "id": "decd71a4-37e5-44bb-94ac-9383ad8fbaff"
      },
      "outputs": [],
      "source": [
        "import matplotlib.pyplot as plt"
      ]
    },
    {
      "cell_type": "code",
      "execution_count": null,
      "id": "357e3647-0cd6-457c-95d6-2d3abd06fc62",
      "metadata": {
        "id": "357e3647-0cd6-457c-95d6-2d3abd06fc62",
        "outputId": "ee39adf9-969d-472f-a862-f61c5cc7c40f"
      },
      "outputs": [
        {
          "data": {
            "text/plain": [
              "<matplotlib.legend.Legend at 0x1888711a990>"
            ]
          },
          "execution_count": 57,
          "metadata": {},
          "output_type": "execute_result"
        },
        {
          "data": {
            "image/png": "[encoded data removed]",
            "text/plain": [
              "<Figure size 640x480 with 1 Axes>"
            ]
          },
          "metadata": {},
          "output_type": "display_data"
        }
      ],
      "source": [
        "plt.plot(history.history[\"accuracy\"], label=\"train acc\")\n",
        "plt.plot(history.history[\"val_accuracy\"], label=\"val acc\")\n",
        "plt.legend()"
      ]
    },
    {
      "cell_type": "code",
      "execution_count": null,
      "id": "f2b13537-b045-4717-916e-3b05732bda5e",
      "metadata": {
        "id": "f2b13537-b045-4717-916e-3b05732bda5e",
        "outputId": "e25eec41-97a1-4dfa-ae6c-4016061c7b93"
      },
      "outputs": [
        {
          "name": "stdout",
          "output_type": "stream",
          "text": [
            "\u001b[1m65/65\u001b[0m \u001b[32m━━━━━━━━━━━━━━━━━━━━\u001b[0m\u001b[37m\u001b[0m \u001b[1m0s\u001b[0m 4ms/step\n"
          ]
        }
      ],
      "source": [
        "pred = model.predict(X_test)"
      ]
    },
    {
      "cell_type": "code",
      "execution_count": null,
      "id": "d4b5410c-6e5a-4b73-a836-f6aa394ba606",
      "metadata": {
        "id": "d4b5410c-6e5a-4b73-a836-f6aa394ba606"
      },
      "outputs": [],
      "source": [
        "pred = pred[:, 0]"
      ]
    },
    {
      "cell_type": "code",
      "execution_count": null,
      "id": "5d23f464-de30-4331-b537-25483ccecb75",
      "metadata": {
        "id": "5d23f464-de30-4331-b537-25483ccecb75"
      },
      "outputs": [],
      "source": [
        "class_pred = []\n",
        "for val in pred:\n",
        "    if val > 0.5:\n",
        "        class_pred.append(1)\n",
        "    else:\n",
        "        class_pred.append(0)"
      ]
    },
    {
      "cell_type": "code",
      "execution_count": null,
      "id": "1f688005-8986-47fa-b8d1-bb644391d804",
      "metadata": {
        "id": "1f688005-8986-47fa-b8d1-bb644391d804"
      },
      "outputs": [],
      "source": [
        "y_pred = class_pred"
      ]
    },
    {
      "cell_type": "code",
      "execution_count": null,
      "id": "e3250c55-b777-4fcf-b835-7f3ad3d03bc2",
      "metadata": {
        "id": "e3250c55-b777-4fcf-b835-7f3ad3d03bc2"
      },
      "outputs": [],
      "source": [
        "# Importing Evaluation matrces\n",
        "from sklearn.metrics import accuracy_score\n",
        "from sklearn.metrics import precision_score\n",
        "from sklearn.metrics import recall_score\n",
        "from sklearn.metrics import f1_score\n",
        "from sklearn.metrics import confusion_matrix\n",
        "from sklearn.metrics import classification_report\n",
        "from sklearn.metrics import ConfusionMatrixDisplay"
      ]
    },
    {
      "cell_type": "code",
      "execution_count": null,
      "id": "7353a69b-1b1f-457a-815f-f09384034ef0",
      "metadata": {
        "id": "7353a69b-1b1f-457a-815f-f09384034ef0",
        "outputId": "5cf445cd-b042-40de-d957-b2524a39ea2f"
      },
      "outputs": [
        {
          "name": "stdout",
          "output_type": "stream",
          "text": [
            "Accuracy :  0.5318840579710145\n",
            "--------------------------------------------------\n",
            "F1 :  [0.17391304 0.67340748]\n",
            "--------------------------------------------------\n",
            "Reacll :  [0.09779482 0.97273612]\n",
            "--------------------------------------------------\n",
            "Precision :  [0.78461538 0.51494845]\n",
            "--------------------------------------------------\n",
            "Confusion Matrix....\n",
            " [[102 941]\n",
            " [ 28 999]]\n",
            "--------------------------------------------------\n",
            "Classification Report....\n",
            "               precision    recall  f1-score   support\n",
            "\n",
            "           0       0.78      0.10      0.17      1043\n",
            "           1       0.51      0.97      0.67      1027\n",
            "\n",
            "    accuracy                           0.53      2070\n",
            "   macro avg       0.65      0.54      0.42      2070\n",
            "weighted avg       0.65      0.53      0.42      2070\n",
            "\n",
            "--------------------------------------------------\n",
            "Plotting Confusion Matrix...\n",
            "\n"
          ]
        },
        {
          "data": {
            "image/png": "[encoded data removed]",
            "text/plain": [
              "<Figure size 640x480 with 2 Axes>"
            ]
          },
          "metadata": {},
          "output_type": "display_data"
        }
      ],
      "source": [
        "\n",
        "# Accuracy\n",
        "accuracy = accuracy_score(y_test, y_pred)\n",
        "\n",
        "# Precision\n",
        "precision = precision_score(y_test, y_pred, average=None)\n",
        "\n",
        "# Recall\n",
        "recall = recall_score(y_test, y_pred, average=None)\n",
        "\n",
        "# F1 Score\n",
        "f1_sco = f1_score(y_test, y_pred, average=None)\n",
        "\n",
        "# Confusion Matrix\n",
        "confusion_mat = confusion_matrix(y_test, y_pred)\n",
        "\n",
        "# Report\n",
        "report = classification_report(y_test, y_pred)\n",
        "\n",
        "print('Accuracy : ', accuracy)\n",
        "print(\"-\"*50)\n",
        "print('F1 : ', f1_sco)\n",
        "print(\"-\"*50)\n",
        "print('Reacll : ', recall)\n",
        "print(\"-\"*50)\n",
        "print('Precision : ', precision)\n",
        "print(\"-\"*50)\n",
        "print('Confusion Matrix....\\n', confusion_mat)\n",
        "print(\"-\"*50)\n",
        "print('Classification Report....\\n', report)\n",
        "print(\"-\"*50)\n",
        "print('Plotting Confusion Matrix...\\n')\n",
        "disp = ConfusionMatrixDisplay(confusion_mat, display_labels=None)\n",
        "disp.plot()\n",
        "plt.show()"
      ]
    },
    {
      "cell_type": "code",
      "execution_count": null,
      "id": "6bacad29-67f5-436e-b141-5e4bb221da30",
      "metadata": {
        "id": "6bacad29-67f5-436e-b141-5e4bb221da30"
      },
      "outputs": [],
      "source": []
    }
  ],
  "metadata": {
    "kernelspec": {
      "display_name": "Python 3 (ipykernel)",
      "language": "python",
      "name": "python3"
    },
    "language_info": {
      "codemirror_mode": {
        "name": "ipython",
        "version": 3
      },
      "file_extension": ".py",
      "mimetype": "text/x-python",
      "name": "python",
      "nbconvert_exporter": "python",
      "pygments_lexer": "ipython3",
      "version": "3.11.7"
    },
    "colab": {
      "provenance": []
    }
  },
  "nbformat": 4,
  "nbformat_minor": 5
}